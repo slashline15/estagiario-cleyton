{
 "cells": [
  {
   "cell_type": "code",
   "execution_count": 1,
   "metadata": {},
   "outputs": [],
   "source": [
    "from pydub import AudioSegment\n",
    "import whisper"
   ]
  },
  {
   "cell_type": "code",
   "execution_count": 2,
   "metadata": {},
   "outputs": [
    {
     "name": "stdout",
     "output_type": "stream",
     "text": [
      "Áudio convertido e salvo como: C:/Users/cleov/estagiario-cleyton/files/audio.wav\n"
     ]
    }
   ],
   "source": [
    "audio_path = \"C:/Users/cleov/estagiario-cleyton/files/audio.mp3\"  # Substitua pelo caminho do seu arquivo\n",
    "audio = AudioSegment.from_file(audio_path)\n",
    "wav_path = \"C:/Users/cleov/estagiario-cleyton/files/audio.wav\"\n",
    "audio.export(wav_path, format=\"wav\")\n",
    "print(f\"Áudio convertido e salvo como: {wav_path}\")"
   ]
  },
  {
   "cell_type": "code",
   "execution_count": 3,
   "metadata": {},
   "outputs": [
    {
     "name": "stderr",
     "output_type": "stream",
     "text": [
      "100%|███████████████████████████████████████| 139M/139M [00:09<00:00, 15.5MiB/s]\n",
      "c:\\Users\\cleov\\estagiario-cleyton\\.env\\Lib\\site-packages\\whisper\\__init__.py:150: FutureWarning: You are using `torch.load` with `weights_only=False` (the current default value), which uses the default pickle module implicitly. It is possible to construct malicious pickle data which will execute arbitrary code during unpickling (See https://github.com/pytorch/pytorch/blob/main/SECURITY.md#untrusted-models for more details). In a future release, the default value for `weights_only` will be flipped to `True`. This limits the functions that could be executed during unpickling. Arbitrary objects will no longer be allowed to be loaded via this mode unless they are explicitly allowlisted by the user via `torch.serialization.add_safe_globals`. We recommend you start setting `weights_only=True` for any use case where you don't have full control of the loaded file. Please open an issue on GitHub for any issues related to this experimental feature.\n",
      "  checkpoint = torch.load(fp, map_location=device)\n"
     ]
    }
   ],
   "source": [
    "model = whisper.load_model(\"base\")  # Outros modelos: \"tiny\", \"small\", \"medium\", \"large\""
   ]
  },
  {
   "cell_type": "code",
   "execution_count": 4,
   "metadata": {},
   "outputs": [],
   "source": [
    "result = model.transcribe(wav_path, fp16=False)\n",
    "transcription = result[\"text\"]"
   ]
  },
  {
   "cell_type": "code",
   "execution_count": 5,
   "metadata": {},
   "outputs": [
    {
     "name": "stdout",
     "output_type": "stream",
     "text": [
      "Transcrição do áudio:\n",
      " Tem uma visão, quase uma alucinação. Em gêneros civis, tintos, fósseis de uma era analógica, aí há a grande seifadora de empregos, vai desimar as vagas. E eu, que era uma cadeira na primeira fila desse apocalipse profissional, trabalho numa construtora que usa processos da época dos faraos, fichas, carimbos, excel. O financeiro, uma planilha com 80 abas, é como navegar num labirinto cafiano. Lançar 60 notas fiscais no braço, uma tortura, digna do inferno de dante. E depois procurarei-ros por horas para a planilha te dar uns dados inúteis. Funciona, mas é uma od a ineficiência. Relatórios, e meios, pedidos, arquivos, diário de obra, medições, orçamentos, tudo manual. Uma cinfonia de desperdício, mas no meu nilismo vejo uma faculha, a automação. Trabalho na área, conheço o sofrimento. Um bom sistema substituiria, dezenas de almas, penadas, economizando uma fortuna. Falo de gestão, claro. Dificilmente, a IAA vai substituir a mão de obra, pelo menos não tão cedo. Ainda não vi, um GPT assentando tejólos. A solução? Clayton, o estagiário Zumbi, um chatbot pro Telegram com IAA, organiza agenda, grava e resume reuniões, guarda informações num banco de dados, tudo ali disponível, um faron num mar de trevas. Clayton terá acesso a tudo. Orçamentos memoriais, cronogramas, tarefas, e vai ajudar em decisões técnicas como um moráculo digital. Com a câmera, identifica falhas e ler documentos, arquiva tudo, ajudem negociações, um assistente pessoal sem alma, mas eficiente. E o básico, controle de materiais, alugues, mão de obra, medições, cálculos, stock financeiro, cronograma, otimizização total do tempo, que no fim das contas é só uma contagem regressiva para o inevitável. A IAA veio para ficar. E eu estou preso a ela. Preciso botar essa máquina para funcionar. Controle total da obra via Telegram com Clayton o leime. Posso detalhar os fluxos se você tiver estômago. O que que acha? Mais um prego no caixão da humanidade. De qualquer forma, o café da manhã estava bom.\n"
     ]
    }
   ],
   "source": [
    "print(\"Transcrição do áudio:\")\n",
    "print(transcription)"
   ]
  }
 ],
 "metadata": {
  "kernelspec": {
   "display_name": ".env",
   "language": "python",
   "name": "python3"
  },
  "language_info": {
   "codemirror_mode": {
    "name": "ipython",
    "version": 3
   },
   "file_extension": ".py",
   "mimetype": "text/x-python",
   "name": "python",
   "nbconvert_exporter": "python",
   "pygments_lexer": "ipython3",
   "version": "3.12.7"
  }
 },
 "nbformat": 4,
 "nbformat_minor": 2
}
