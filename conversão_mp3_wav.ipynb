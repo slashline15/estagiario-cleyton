{
 "cells": [
  {
   "cell_type": "markdown",
   "metadata": {},
   "source": [
    "### Passo 1: Importar Bibliotecas\n",
    "Esta célula importa as bibliotecas necessárias para o processamento do áudio.\n",
    "\n",
    "```python\n",
    "# Importa a biblioteca necessária para manipulação de áudio\n",
    "from pydub import AudioSegment\n",
    "```"
   ]
  },
  {
   "cell_type": "code",
   "execution_count": 2,
   "metadata": {},
   "outputs": [],
   "source": [
    "from pydub import AudioSegment"
   ]
  },
  {
   "cell_type": "markdown",
   "metadata": {},
   "source": [
    "### Passo 2: Preparação Inicial\n",
    "Esta célula define as variáveis para o caminho do arquivo de áudio (entrada) e onde o arquivo convertido será salvo (saída).\n",
    "\n",
    "```python\n",
    "# Definição dos caminhos de entrada e saída\n",
    "audio_path = \"caminho_do_seu_arquivo.mp3\"  # Caminho do arquivo original\n",
    "wav_path = \"convertido.wav\"  # Caminho para salvar o arquivo convertido\n",
    "```"
   ]
  },
  {
   "cell_type": "code",
   "execution_count": null,
   "metadata": {},
   "outputs": [],
   "source": [
    "audio_path = \"C:/Users/cleov/estagiario-cleyton/files/audio.mp3\"\n",
    "wav_path = \"C:/Users/cleov/estagiario-cleyton/files/audio.wav\""
   ]
  },
  {
   "cell_type": "markdown",
   "metadata": {},
   "source": [
    "### Passo 2: Conversão do Áudio\n",
    "Esta célula descreve o processo de conversão do áudio para o formato WAV e como lidar com possíveis erros.\n",
    "\n",
    "```python\n",
    "try:\n",
    "    # Carrega o arquivo de áudio no formato especificado (MP3)\n",
    "    audio = AudioSegment.from_file(audio_path)\n",
    "    \n",
    "    # Exporta o arquivo para o formato WAV\n",
    "    audio.export(wav_path, format=\"wav\")\n",
    "    \n",
    "    # Mensagem de sucesso\n",
    "    print(\"Conversão bem-sucedida!\")\n",
    "except Exception as e:\n",
    "    # Exibe o erro caso algo dê errado\n",
    "    print(\"Erro durante a conversão:\", e)```"
   ]
  },
  {
   "cell_type": "code",
   "execution_count": 8,
   "metadata": {},
   "outputs": [
    {
     "name": "stdout",
     "output_type": "stream",
     "text": [
      "Conversão bem-sucedida!\n"
     ]
    }
   ],
   "source": [
    "try:\n",
    "    audio = AudioSegment.from_file(audio_path)\n",
    "    audio.export(wav_path, format=\"wav\")\n",
    "    print(\"Conversão bem-sucedida!\")\n",
    "except Exception as e:\n",
    "    print(\"Erro durante a conversão:\", e)"
   ]
  }
 ],
 "metadata": {
  "kernelspec": {
   "display_name": ".env",
   "language": "python",
   "name": "python3"
  },
  "language_info": {
   "codemirror_mode": {
    "name": "ipython",
    "version": 3
   },
   "file_extension": ".py",
   "mimetype": "text/x-python",
   "name": "python",
   "nbconvert_exporter": "python",
   "pygments_lexer": "ipython3",
   "version": "3.12.7"
  }
 },
 "nbformat": 4,
 "nbformat_minor": 2
}
